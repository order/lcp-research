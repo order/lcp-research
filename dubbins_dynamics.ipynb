{
 "cells": [
  {
   "cell_type": "code",
   "execution_count": 47,
   "metadata": {
    "collapsed": true
   },
   "outputs": [],
   "source": [
    "import numpy as np\n",
    "import matplotlib.pyplot as plt\n",
    "%matplotlib inline  "
   ]
  },
  {
   "cell_type": "code",
   "execution_count": 48,
   "metadata": {
    "collapsed": true
   },
   "outputs": [],
   "source": [
    "def next_dubbins_state(s,u,h):\n",
    "    \"\"\"\n",
    "    Forward Euler for Dubbins dynamics\n",
    "    @param s: state, Nx3\n",
    "    @param u: turn rate\n",
    "    @param h: Euler constant (time step)\n",
    "    @return: new states\n",
    "    \"\"\"\n",
    "    if 1 == len(s.shape) and 3 == s.size:\n",
    "        s = s.reshape(1,3)\n",
    "    N,D = s.shape\n",
    "    assert 3 == D\n",
    "\n",
    "    dx = np.cos(s[:,2])\n",
    "    dy = np.sin(s[:,2])\n",
    "    dt = u * np.ones(N)\n",
    "\n",
    "    ds = np.array([dx,dy,dt]).T\n",
    "    assert ds.shape == s.shape\n",
    "\n",
    "    return s + h*ds"
   ]
  },
  {
   "cell_type": "code",
   "execution_count": 49,
   "metadata": {
    "collapsed": true
   },
   "outputs": [],
   "source": [
    "def next_relative_state(s,u,v,h):\n",
    "    if 1 == len(s.shape) and 3 == s.size:\n",
    "        s = s.reshape(1,3)\n",
    "    x = s[:,0]\n",
    "    y = s[:,1]\n",
    "    t = s[:,2]\n",
    "\n",
    "    # Translate to zero out own-ship (x,y)\n",
    "    x_p = x + h*(np.cos(t) - 1)\n",
    "    y_p = y + h*(np.sin(t))\n",
    "\n",
    "    # Rotation to zero out own-ship rotation\n",
    "    phi = -h * u\n",
    "    \n",
    "    x_n = np.cos(phi)*x_p - np.sin(phi)*y_p\n",
    "    y_n = np.sin(phi)*x_p + np.cos(phi)*y_p \n",
    "    t_n = t + h*(v - u)\n",
    "\n",
    "    return np.array([x_n,y_n,t_n]).T"
   ]
  },
  {
   "cell_type": "code",
   "execution_count": 50,
   "metadata": {
    "collapsed": true
   },
   "outputs": [],
   "source": [
    "def relative_test(T,h,xo,xi, u, v):\n",
    "    own_states = np.zeros((T,3))\n",
    "    own_states[0,:] = xo\n",
    "    \n",
    "    other_states = np.zeros((T,3))\n",
    "    other_states[0,:] = xi\n",
    "    \n",
    "    rel_states = np.zeros((T,3))\n",
    "    rel_states[0,:] = xi - xo\n",
    "    \n",
    "    for i in xrange(T-1):\n",
    "        own_states[i+1,:] = next_dubbins_state(own_states[i,:],u,h)\n",
    "        other_states[i+1,:] = next_dubbins_state(other_states[i,:],v,h)\n",
    "        rel_states[i+1,:] = next_relative_state(rel_states[i,:],u,v,h)\n",
    "\n",
    "        \n",
    "    plt.figure()\n",
    "    plt.subplot(2,2,1)\n",
    "    plt.title(\"Relative\")\n",
    "    plt.plot(rel_states[:,0], rel_states[:,1],'.')\n",
    "    plt.subplot(2,2,2)\n",
    "    plt.title(\"Actual\")\n",
    "    plt.plot(own_states[:,0], own_states[:,1],'g.')\n",
    "    plt.plot(other_states[:,0], other_states[:,1],'r.')\n",
    "\n",
    "    plt.subplot(2,2,3)\n",
    "    plt.plot(np.sqrt(np.power(rel_states[:,0],2) + np.power(rel_states[:,1],2)))\n",
    "    plt.subplot(2,2,4)\n",
    "    diff_states = other_states - own_states\n",
    "    plt.plot(np.sqrt(np.power(diff_states[:,0],2) + np.power(diff_states[:,1],2)))"
   ]
  },
  {
   "cell_type": "code",
   "execution_count": 51,
   "metadata": {},
   "outputs": [
    {
     "data": {
      "image/png": "[encoded data removed]",
      "text/plain": [
       "<matplotlib.figure.Figure at 0x7ff45d097710>"
      ]
     },
     "metadata": {},
     "output_type": "display_data"
    }
   ],
   "source": [
    "gamma = 0.997\n",
    "relative_test(T=int(1. / (1 - gamma)), h=0.02,\n",
    "              xo=np.array([0,0,0]),\n",
    "              xi=np.array([10,0,-np.pi]),\n",
    "              u=0, v=0);"
   ]
  },
  {
   "cell_type": "code",
   "execution_count": null,
   "metadata": {
    "collapsed": true
   },
   "outputs": [],
   "source": []
  }
 ],
 "metadata": {
  "kernelspec": {
   "display_name": "Python 2",
   "language": "python",
   "name": "python2"
  },
  "language_info": {
   "codemirror_mode": {
    "name": "ipython",
    "version": 2
   },
   "file_extension": ".py",
   "mimetype": "text/x-python",
   "name": "python",
   "nbconvert_exporter": "python",
   "pygments_lexer": "ipython2",
   "version": "2.7.12"
  }
 },
 "nbformat": 4,
 "nbformat_minor": 2
}
