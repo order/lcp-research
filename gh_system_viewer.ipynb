{
 "cells": [
  {
   "cell_type": "code",
   "execution_count": 69,
   "metadata": {
    "collapsed": true
   },
   "outputs": [],
   "source": [
    "import numpy as np\n",
    "import scipy.sparse as sps\n",
    "import scipy.sparse.linalg as spsl\n",
    "import time\n",
    "\n",
    "import matplotlib.pyplot as plt\n",
    "import matplotlib.patches as patches\n",
    "%matplotlib inline  \n",
    "\n",
    "from utils.archiver import *"
   ]
  },
  {
   "cell_type": "code",
   "execution_count": 70,
   "metadata": {
    "collapsed": true
   },
   "outputs": [],
   "source": [
    "unarch = Unarchiver('/home/epz/scratch/test_gh_system.arch')"
   ]
  },
  {
   "cell_type": "code",
   "execution_count": 71,
   "metadata": {},
   "outputs": [
    {
     "name": "stdout",
     "output_type": "stream",
     "text": [
      "(64829, 64829)\n"
     ]
    }
   ],
   "source": [
    "G = unarch.G\n",
    "h = unarch.h\n",
    "G = G.tocsr()\n",
    "print G.shape"
   ]
  },
  {
   "cell_type": "code",
   "execution_count": 72,
   "metadata": {
    "collapsed": true
   },
   "outputs": [],
   "source": [
    "np.savez('/home/epz/scratch/test_gh_system.npz', G_data=G.data, G_indices=G.indices, G_indptr=G.indptr, h=h)"
   ]
  },
  {
   "cell_type": "code",
   "execution_count": 65,
   "metadata": {},
   "outputs": [
    {
     "name": "stdout",
     "output_type": "stream",
     "text": [
      "84.9938120842\n",
      "4.59847423115e-12\n"
     ]
    }
   ],
   "source": [
    "start = time.time()\n",
    "x = spsl.spsolve(G,h)\n",
    "print time.time() - start\n",
    "print np.linalg.norm(G*x - h)"
   ]
  },
  {
   "cell_type": "code",
   "execution_count": 53,
   "metadata": {},
   "outputs": [
    {
     "name": "stdout",
     "output_type": "stream",
     "text": [
      "(64829, 64829)\n"
     ]
    },
    {
     "data": {
      "text/plain": [
       "<matplotlib.lines.Line2D at 0x7ff21c7255d0>"
      ]
     },
     "execution_count": 53,
     "metadata": {},
     "output_type": "execute_result"
    },
    {
     "data": {
      "image/png": "[encoded data removed]",
      "text/plain": [
       "<matplotlib.figure.Figure at 0x7ff21d565c50>"
      ]
     },
     "metadata": {},
     "output_type": "display_data"
    }
   ],
   "source": [
    "fig1 = plt.figure()\n",
    "ax1 = fig1.add_subplot(111, aspect='equal')\n",
    "N = 21**3 + 1  # 1 for augmentation var\n",
    "\n",
    "# Red is M\n",
    "ax1.add_patch(\n",
    "    patches.Rectangle(\n",
    "        (0, 3*N),   # (x,y)\n",
    "        4*N,          # width\n",
    "        4*N,          # height\n",
    "        alpha=0.2,\n",
    "        fc='r'\n",
    "    ),\n",
    ")\n",
    "\n",
    "ax1.add_patch(\n",
    "    patches.Rectangle(\n",
    "        (N, 0),   # (x,y)\n",
    "        3*N,          # width\n",
    "        3*N,          # height\n",
    "        alpha=0.2,\n",
    "        fc='g'\n",
    "    ),\n",
    ")\n",
    "ax1.add_patch(\n",
    "    patches.Rectangle(\n",
    "        (N, 0),   # (x,y)\n",
    "        3*N,          # width\n",
    "        3*N,          # height\n",
    "        alpha=0.2,\n",
    "        fc='b'\n",
    "    ),\n",
    ")\n",
    "ax1.add_patch(\n",
    "    patches.Rectangle(\n",
    "        (4*N, 0),   # (x,y)\n",
    "        3*N,          # width\n",
    "        3*N,          # height\n",
    "        alpha=0.2,\n",
    "        fc='g'\n",
    "    ),\n",
    ")\n",
    "ax1.add_patch(\n",
    "    patches.Rectangle(\n",
    "        (4*N, 4*N),   # (x,y)\n",
    "        3*N,          # width\n",
    "        3*N,          # height\n",
    "        alpha=0.2,\n",
    "        fc='c'\n",
    "    ),\n",
    ")\n",
    "\n",
    "ax1.spy(G,precision=0.05, markersize=2)"
   ]
  },
  {
   "cell_type": "code",
   "execution_count": null,
   "metadata": {},
   "outputs": [],
   "source": []
  },
  {
   "cell_type": "code",
   "execution_count": null,
   "metadata": {
    "collapsed": true
   },
   "outputs": [],
   "source": []
  }
 ],
 "metadata": {
  "kernelspec": {
   "display_name": "Python 2",
   "language": "python",
   "name": "python2"
  },
  "language_info": {
   "codemirror_mode": {
    "name": "ipython",
    "version": 2
   },
   "file_extension": ".py",
   "mimetype": "text/x-python",
   "name": "python",
   "nbconvert_exporter": "python",
   "pygments_lexer": "ipython2",
   "version": "2.7.12"
  }
 },
 "nbformat": 4,
 "nbformat_minor": 2
}
